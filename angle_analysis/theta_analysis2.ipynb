{
 "cells": [
  {
   "cell_type": "code",
   "execution_count": 76,
   "metadata": {},
   "outputs": [
    {
     "data": {
      "text/html": "<div>\n<style scoped>\n    .dataframe tbody tr th:only-of-type {\n        vertical-align: middle;\n    }\n\n    .dataframe tbody tr th {\n        vertical-align: top;\n    }\n\n    .dataframe thead th {\n        text-align: right;\n    }\n</style>\n<table border=\"1\" class=\"dataframe\">\n  <thead>\n    <tr style=\"text-align: right;\">\n      <th></th>\n      <th>CRD</th>\n      <th>PartType</th>\n      <th>Orient.</th>\n      <th>X</th>\n      <th>Y</th>\n      <th>SPI_X_AVG</th>\n      <th>SPI_Y_AVG</th>\n      <th>SPI_L</th>\n      <th>SPI_W</th>\n      <th>PRE_X</th>\n      <th>PRE_Y</th>\n      <th>PRE_A</th>\n      <th>PRE_L</th>\n      <th>PRE_W</th>\n      <th>POST_X</th>\n      <th>POST_Y</th>\n      <th>POST_A</th>\n      <th>POST_L</th>\n      <th>POST_W</th>\n      <th>Job</th>\n      <th>Chip_L</th>\n      <th>Chip_W</th>\n      <th>SPI_VOLUME_MEAN</th>\n    </tr>\n  </thead>\n  <tbody>\n    <tr>\n      <th>0</th>\n      <td>B1</td>\n      <td>R0402</td>\n      <td>90.0</td>\n      <td>31.26</td>\n      <td>100.11</td>\n      <td>-52.00</td>\n      <td>61.90</td>\n      <td>61.90</td>\n      <td>52.00</td>\n      <td>-19.887293</td>\n      <td>-1.840963</td>\n      <td>-1.877</td>\n      <td>-1.840963</td>\n      <td>19.887293</td>\n      <td>-7.440417</td>\n      <td>28.108231</td>\n      <td>1.613</td>\n      <td>28.108231</td>\n      <td>7.440417</td>\n      <td>CENTER</td>\n      <td>400.0</td>\n      <td>200.0</td>\n      <td>78.71525</td>\n    </tr>\n    <tr>\n      <th>1</th>\n      <td>B2</td>\n      <td>R0402</td>\n      <td>90.0</td>\n      <td>31.83</td>\n      <td>100.11</td>\n      <td>-47.00</td>\n      <td>63.70</td>\n      <td>63.70</td>\n      <td>47.00</td>\n      <td>-26.766272</td>\n      <td>6.898049</td>\n      <td>-1.449</td>\n      <td>6.898049</td>\n      <td>26.766272</td>\n      <td>5.487133</td>\n      <td>22.242701</td>\n      <td>0.000</td>\n      <td>22.242701</td>\n      <td>-5.487133</td>\n      <td>CENTER</td>\n      <td>400.0</td>\n      <td>200.0</td>\n      <td>77.33190</td>\n    </tr>\n    <tr>\n      <th>2</th>\n      <td>B3</td>\n      <td>R0402</td>\n      <td>90.0</td>\n      <td>32.40</td>\n      <td>100.11</td>\n      <td>-41.60</td>\n      <td>72.35</td>\n      <td>72.35</td>\n      <td>41.60</td>\n      <td>-32.058273</td>\n      <td>8.125244</td>\n      <td>-3.278</td>\n      <td>8.125244</td>\n      <td>32.058273</td>\n      <td>-19.644203</td>\n      <td>12.971593</td>\n      <td>1.552</td>\n      <td>12.971593</td>\n      <td>19.644203</td>\n      <td>CENTER</td>\n      <td>400.0</td>\n      <td>200.0</td>\n      <td>77.17380</td>\n    </tr>\n    <tr>\n      <th>3</th>\n      <td>B4</td>\n      <td>R0402</td>\n      <td>90.0</td>\n      <td>32.97</td>\n      <td>100.11</td>\n      <td>-50.60</td>\n      <td>63.10</td>\n      <td>63.10</td>\n      <td>50.60</td>\n      <td>-23.437572</td>\n      <td>-6.195457</td>\n      <td>-3.337</td>\n      <td>-6.195457</td>\n      <td>23.437572</td>\n      <td>-22.517658</td>\n      <td>26.396389</td>\n      <td>0.000</td>\n      <td>26.396389</td>\n      <td>22.517658</td>\n      <td>CENTER</td>\n      <td>400.0</td>\n      <td>200.0</td>\n      <td>77.96495</td>\n    </tr>\n    <tr>\n      <th>4</th>\n      <td>B5</td>\n      <td>R0402</td>\n      <td>90.0</td>\n      <td>33.54</td>\n      <td>100.11</td>\n      <td>-50.00</td>\n      <td>69.45</td>\n      <td>69.45</td>\n      <td>50.00</td>\n      <td>-5.187286</td>\n      <td>7.085744</td>\n      <td>-3.408</td>\n      <td>7.085744</td>\n      <td>5.187286</td>\n      <td>-21.413681</td>\n      <td>29.193306</td>\n      <td>3.611</td>\n      <td>29.193306</td>\n      <td>21.413681</td>\n      <td>CENTER</td>\n      <td>400.0</td>\n      <td>200.0</td>\n      <td>75.37700</td>\n    </tr>\n    <tr>\n      <th>5</th>\n      <td>B6</td>\n      <td>R0402</td>\n      <td>90.0</td>\n      <td>31.26</td>\n      <td>99.20</td>\n      <td>-49.10</td>\n      <td>59.75</td>\n      <td>59.75</td>\n      <td>49.10</td>\n      <td>-31.059980</td>\n      <td>1.531298</td>\n      <td>3.611</td>\n      <td>1.531298</td>\n      <td>31.059980</td>\n      <td>-5.925862</td>\n      <td>17.682121</td>\n      <td>0.000</td>\n      <td>17.682121</td>\n      <td>5.925862</td>\n      <td>CENTER</td>\n      <td>400.0</td>\n      <td>200.0</td>\n      <td>77.66230</td>\n    </tr>\n    <tr>\n      <th>6</th>\n      <td>B7</td>\n      <td>R0402</td>\n      <td>90.0</td>\n      <td>31.83</td>\n      <td>99.20</td>\n      <td>-44.95</td>\n      <td>60.10</td>\n      <td>60.10</td>\n      <td>44.95</td>\n      <td>-20.728939</td>\n      <td>10.258562</td>\n      <td>-3.247</td>\n      <td>10.258562</td>\n      <td>20.728939</td>\n      <td>-17.024027</td>\n      <td>33.615910</td>\n      <td>3.455</td>\n      <td>33.615910</td>\n      <td>17.024027</td>\n      <td>CENTER</td>\n      <td>400.0</td>\n      <td>200.0</td>\n      <td>77.56575</td>\n    </tr>\n    <tr>\n      <th>7</th>\n      <td>B8</td>\n      <td>R0402</td>\n      <td>90.0</td>\n      <td>32.40</td>\n      <td>99.20</td>\n      <td>-39.05</td>\n      <td>70.00</td>\n      <td>70.00</td>\n      <td>39.05</td>\n      <td>-27.195978</td>\n      <td>11.357373</td>\n      <td>-2.031</td>\n      <td>11.357373</td>\n      <td>27.195978</td>\n      <td>-1.401807</td>\n      <td>29.627155</td>\n      <td>3.337</td>\n      <td>29.627155</td>\n      <td>1.401807</td>\n      <td>CENTER</td>\n      <td>400.0</td>\n      <td>200.0</td>\n      <td>79.10090</td>\n    </tr>\n    <tr>\n      <th>8</th>\n      <td>B9</td>\n      <td>R0402</td>\n      <td>90.0</td>\n      <td>32.97</td>\n      <td>99.20</td>\n      <td>-46.55</td>\n      <td>62.45</td>\n      <td>62.45</td>\n      <td>46.55</td>\n      <td>-19.822590</td>\n      <td>1.057152</td>\n      <td>-3.047</td>\n      <td>1.057152</td>\n      <td>19.822590</td>\n      <td>-20.989681</td>\n      <td>15.195607</td>\n      <td>3.310</td>\n      <td>15.195607</td>\n      <td>20.989681</td>\n      <td>CENTER</td>\n      <td>400.0</td>\n      <td>200.0</td>\n      <td>81.96445</td>\n    </tr>\n    <tr>\n      <th>9</th>\n      <td>B10</td>\n      <td>R0402</td>\n      <td>90.0</td>\n      <td>33.54</td>\n      <td>99.20</td>\n      <td>-53.25</td>\n      <td>71.15</td>\n      <td>71.15</td>\n      <td>53.25</td>\n      <td>-26.842043</td>\n      <td>3.604794</td>\n      <td>-3.022</td>\n      <td>3.604794</td>\n      <td>26.842043</td>\n      <td>-17.169552</td>\n      <td>31.046926</td>\n      <td>-1.660</td>\n      <td>31.046926</td>\n      <td>17.169552</td>\n      <td>CENTER</td>\n      <td>400.0</td>\n      <td>200.0</td>\n      <td>79.36680</td>\n    </tr>\n  </tbody>\n</table>\n</div>",
      "text/plain": "   CRD PartType  Orient.      X       Y  SPI_X_AVG  SPI_Y_AVG  SPI_L  SPI_W  \\\n0   B1    R0402     90.0  31.26  100.11     -52.00      61.90  61.90  52.00   \n1   B2    R0402     90.0  31.83  100.11     -47.00      63.70  63.70  47.00   \n2   B3    R0402     90.0  32.40  100.11     -41.60      72.35  72.35  41.60   \n3   B4    R0402     90.0  32.97  100.11     -50.60      63.10  63.10  50.60   \n4   B5    R0402     90.0  33.54  100.11     -50.00      69.45  69.45  50.00   \n5   B6    R0402     90.0  31.26   99.20     -49.10      59.75  59.75  49.10   \n6   B7    R0402     90.0  31.83   99.20     -44.95      60.10  60.10  44.95   \n7   B8    R0402     90.0  32.40   99.20     -39.05      70.00  70.00  39.05   \n8   B9    R0402     90.0  32.97   99.20     -46.55      62.45  62.45  46.55   \n9  B10    R0402     90.0  33.54   99.20     -53.25      71.15  71.15  53.25   \n\n       PRE_X      PRE_Y  PRE_A      PRE_L      PRE_W     POST_X     POST_Y  \\\n0 -19.887293  -1.840963 -1.877  -1.840963  19.887293  -7.440417  28.108231   \n1 -26.766272   6.898049 -1.449   6.898049  26.766272   5.487133  22.242701   \n2 -32.058273   8.125244 -3.278   8.125244  32.058273 -19.644203  12.971593   \n3 -23.437572  -6.195457 -3.337  -6.195457  23.437572 -22.517658  26.396389   \n4  -5.187286   7.085744 -3.408   7.085744   5.187286 -21.413681  29.193306   \n5 -31.059980   1.531298  3.611   1.531298  31.059980  -5.925862  17.682121   \n6 -20.728939  10.258562 -3.247  10.258562  20.728939 -17.024027  33.615910   \n7 -27.195978  11.357373 -2.031  11.357373  27.195978  -1.401807  29.627155   \n8 -19.822590   1.057152 -3.047   1.057152  19.822590 -20.989681  15.195607   \n9 -26.842043   3.604794 -3.022   3.604794  26.842043 -17.169552  31.046926   \n\n   POST_A     POST_L     POST_W      Job  Chip_L  Chip_W  SPI_VOLUME_MEAN  \n0   1.613  28.108231   7.440417  CENTER    400.0   200.0         78.71525  \n1   0.000  22.242701  -5.487133  CENTER    400.0   200.0         77.33190  \n2   1.552  12.971593  19.644203  CENTER    400.0   200.0         77.17380  \n3   0.000  26.396389  22.517658  CENTER    400.0   200.0         77.96495  \n4   3.611  29.193306  21.413681  CENTER    400.0   200.0         75.37700  \n5   0.000  17.682121   5.925862  CENTER    400.0   200.0         77.66230  \n6   3.455  33.615910  17.024027  CENTER    400.0   200.0         77.56575  \n7   3.337  29.627155   1.401807  CENTER    400.0   200.0         79.10090  \n8   3.310  15.195607  20.989681  CENTER    400.0   200.0         81.96445  \n9  -1.660  31.046926  17.169552  CENTER    400.0   200.0         79.36680  "
     },
     "execution_count": 76,
     "metadata": {},
     "output_type": "execute_result"
    }
   ],
   "source": [
    "import os, sys\n",
    "\n",
    "import pathlib\n",
    "import pandas as pd\n",
    "import numpy as np\n",
    "from easydict import EasyDict as edict\n",
    "from tqdm import tqdm, trange\n",
    "import matplotlib.pyplot as plt\n",
    "import time\n",
    "\n",
    "dir_path = pathlib.Path().absolute()\n",
    "file = '../data/imputed_data.csv'\n",
    "data_path = os.path.join(dir_path, file)\n",
    "\n",
    "pd.set_option('display.max_columns', None)\n",
    "pd.set_option('display.max_rows', None)\n",
    "\n",
    "df = pd.read_csv(data_path  ,index_col=False).drop(['Unnamed: 0'], axis=1)\n",
    "df.reset_index(drop=True, inplace=True)\n",
    "assert df.isnull().sum().sum() == 0\n",
    "\n",
    "df.drop(columns=['SPI_X1','SPI_Y1','SPI_X2','SPI_Y2','SPI_L1','SPI_W1','SPI_L2','SPI_W2'], inplace=True)\n",
    "df.head(10)"
   ]
  },
  {
   "cell_type": "code",
   "execution_count": 77,
   "metadata": {},
   "outputs": [],
   "source": [
    "# switch 90 data to 0 data\n",
    "def switchOrient(x90, y90):\n",
    "    y0 = float(x90)\n",
    "    x0 = float(-y90)\n",
    "    return x0, y0 "
   ]
  },
  {
   "cell_type": "code",
   "execution_count": 78,
   "metadata": {},
   "outputs": [],
   "source": [
    "# 전체 SPI offset 꽈 post offset의 벡터거리 차이에 대한 pre/post angle관계 \n",
    "\n",
    "# 1. group by chip type\n",
    "ABSOLUTE_ANGLE = True\n",
    "BY_CHIP_PERCENTAGE = True\n",
    "PRE_OR_POST_ANGLE = 'pre'\n",
    "DISTANCE = 'spi' # [DISTANCE] - POST \n",
    "STOP_AFTER = 10 # rows\n",
    "\n",
    "dfgroups = df.groupby(['PartType']) \n",
    "# df_chips :: holds dataframes [diff_distance, angle]\n",
    "df_chips = edict()\n",
    "# df_chips_condition :: holds dataframes by condition (2)\n",
    "#   (0: condition 1 [SPI<=CHIP]\n",
    "#    1: condition 2 [SPI>CHIP])\n",
    "df_chips_condition = edict()\n",
    "# df_chips_cond_quad :: holds dataframes by quadrant condition (4) for SPI and Chip (<= or >) (2) -> (8 total)\n",
    "df_chips_cond_quad = edict()\n",
    "# df_chips_condition2 :: holds dataframes by the following conditions\n",
    "#   (0: SPI (+,+) and chip (+,+) and SPI <= chip, \n",
    "#    1: SPI (+,+) and chip (-,-) and SPI <= chip, \n",
    "#    2: SPI (+,+) and chip (-,-) and SPI > chip, \n",
    "#    3: SPI (-,+) and chip (-.+) and SPI <= chip, \n",
    "#    4: SPI (-,+) and chip (+,+) and SPI <= chip, \n",
    "#    5: SPI (-,+) and chip (-,-) and SPI > chip, \n",
    "df_chips_condition2 = edict() # Chip이 SPI 와 동일한 뱡향으로 이동한경우, 반대방향으로 이동한경우 (6)\n"
   ]
  },
  {
   "cell_type": "code",
   "execution_count": 79,
   "metadata": {},
   "outputs": [
    {
     "name": "stdout",
     "output_type": "stream",
     "text": [
      "R0402 ...\n",
      "R1005 68.29237813803111\n",
      "R0603 ...\n",
      "R1005 60.64582510055827\n",
      "R1005 ...\n"
     ]
    },
    {
     "name": "stderr",
     "output_type": "stream",
     "text": [
      "Row: 180746: 100%|██████████| 60750/60750 [08:20<00:00, 121.27it/s]\n",
      "sorting condition dataframes by distance SPI:: 100%|██████████| 2/2 [00:00<00:00, 45.72it/s]\n",
      "sorting condition 2 dataframes by distance SPI:: 100%|██████████| 6/6 [00:00<00:00, 146.46it/s]\n",
      "sorting case dataframes by distance SPI:: 100%|██████████| 8/8 [00:00<00:00, 175.23it/s]\n",
      "Row: 182247: 100%|██████████| 60750/60750 [08:22<00:00, 120.88it/s]\n",
      "sorting condition dataframes by distance SPI:: 100%|██████████| 2/2 [00:00<00:00, 48.49it/s]\n",
      "sorting condition 2 dataframes by distance SPI:: 100%|██████████| 6/6 [00:00<00:00, 151.02it/s]\n",
      "sorting case dataframes by distance SPI:: 100%|██████████| 8/8 [00:00<00:00, 185.03it/s]\n",
      "Row: 100764:  55%|█████▍    | 33255/60750 [03:29<04:18, 106.28it/s]"
     ]
    }
   ],
   "source": [
    "\n",
    "start = time.time()\n",
    "\n",
    "for _, (chiptype, group) in enumerate(dfgroups):\n",
    "    maxval = 0\n",
    "    print(chiptype,'...')\n",
    "    time.sleep(0.3)\n",
    "    \n",
    "    if ABSOLUTE_ANGLE == True:\n",
    "        group['PRE_A'] = group['PRE_A'].abs()\n",
    "        group['POST_A'] = group['POST_A'].abs()\n",
    "    \n",
    "    # initialize dictionaries of each size\n",
    "    df_chips[f'{chiptype}'] = pd.DataFrame(columns=['dist_SPI',f'{PRE_OR_POST_ANGLE}_angle','dist_pre','dist_post'])\n",
    "    df_chips_condition[f'{chiptype}'] = \\\n",
    "            [pd.DataFrame(columns=['dist_SPI',f'{PRE_OR_POST_ANGLE}_angle','dist_pre','dist_post']) for i in range(2)]\n",
    "    df_chips_cond_quad[f'{chiptype}'] = \\\n",
    "            [pd.DataFrame(columns=['dist_SPI',f'{PRE_OR_POST_ANGLE}_angle','dist_pre','dist_post']) for i in range(8)]\n",
    "    df_chips_condition2[f'{chiptype}'] = \\\n",
    "            [pd.DataFrame(columns=['dist_SPI',f'{PRE_OR_POST_ANGLE}_angle','dist_pre','dist_post']) for i in range(6)]\n",
    "    \n",
    "    chiplength = group['Chip_L'].values[0]\n",
    "    \n",
    "    # iterate through each row and compute offset distance difference\n",
    "    t = tqdm(group.iterrows(), total=len(group))\n",
    "    for idx, row in t:\n",
    "        t.set_description(f'Row: {idx}')\n",
    "        \n",
    "        spi_x_avg, spi_y_avg = row[['SPI_X_AVG','SPI_Y_AVG']]\n",
    "        pad_center_x, pad_center_y = row[['X','Y']] * 1000 # mm --> um change of units\n",
    "        spi_volume_mean = row['SPI_VOLUME_MEAN']\n",
    "        pre_x, pre_y = row[['PRE_X','PRE_Y']]\n",
    "        post_x, post_y = row[['POST_X','POST_Y']]\n",
    "        pre_angle, post_angle = row[['PRE_A','POST_A']]\n",
    "        orientation = row['Orient.']\n",
    "        \n",
    "        ''' rotate 90 to 0 '''\n",
    "        if orientation == 90:\n",
    "            spi_x_avg, spi_y_avg = switchOrient(spi_x_avg, spi_y_avg)\n",
    "            pad_center_x, pad_center_y = switchOrient(pad_center_x, pad_center_y)\n",
    "            pre_x, pre_y = switchOrient(pre_x, pre_y)\n",
    "            post_x, post_y = switchOrient(pre_x, pre_y)\n",
    "        \n",
    "        ''' compute vector norms for comparison '''\n",
    "        spi_norm = np.linalg.norm((spi_x_avg, spi_y_avg))\n",
    "        post_norm = np.linalg.norm((post_x, post_y))\n",
    "        \n",
    "        ''' \n",
    "        compute distance between two offset vectors from the origin (칩의 좌측하단)\n",
    "        and append to df_temp dataframe\n",
    "        '''\n",
    "        # vector offset distance difference from SPI\n",
    "        xval, yval = 0, 0\n",
    "        if DISTANCE == 'spi':\n",
    "            xval = spi_x_avg - post_x\n",
    "            yval = spi_y_avg - post_y\n",
    "        # elif DISTANCE == 'pad':\n",
    "        #     xval = pad_center_x - post_x\n",
    "        #     yval = pad_center_y - post_y\n",
    "        diff_distance = np.linalg.norm((xval, yval))\n",
    "        \n",
    "        if BY_CHIP_PERCENTAGE == True:\n",
    "            diff_distance = diff_distance / chiplength * 100\n",
    "        \n",
    "        if maxval < diff_distance:\n",
    "            maxval = diff_distance\n",
    "        \n",
    "        angle = 0\n",
    "        if PRE_OR_POST_ANGLE == 'pre':\n",
    "            angle = pre_angle\n",
    "        elif PRE_OR_POST_ANGLE == 'post':\n",
    "            angle = post_angle\n",
    "        \n",
    "        # vector offset difference from PRE\n",
    "        dist_pre = np.linalg.norm((pre_x, pre_y))\n",
    "        dist_post = np.linalg.norm((post_x, post_y))\n",
    "        \n",
    "        # value to add\n",
    "        values_to_add = [diff_distance, angle, dist_pre, dist_post]\n",
    "        \n",
    "        ''' append distance and angle (all) '''\n",
    "        df_chips[f'{chiptype}'].loc[len(df_chips[f'{chiptype}']),:] = values_to_add\n",
    "        \n",
    "        ''' append distance and angle by condition only '''\n",
    "        if spi_norm <= post_norm:\n",
    "            df_chips_condition[f'{chiptype}'][0].loc[len(df_chips_condition[f'{chiptype}'][0]),:] = \\\n",
    "                values_to_add\n",
    "        else:\n",
    "            df_chips_condition[f'{chiptype}'][1].loc[len(df_chips_condition[f'{chiptype}'][1]),:] = \\\n",
    "                values_to_add\n",
    "        \n",
    "        ''' append distance and angle by condition and quadrant for SPI and Post (Chip) '''\n",
    "        # df_chips_cond_quad\n",
    "        case = -1\n",
    "        # case 1: SPI offset is (+, +), Post offset is (+,+), SPI offset <= Post offset\n",
    "        if spi_x_avg >= 0 and spi_y_avg >= 0 and post_x >= 0 and post_y >= 0 \\\n",
    "            and spi_norm <= post_norm:\n",
    "            case = 0\n",
    "        # case 2: SPI offset is (+, +), Post offset is (+,+), SPI offset > Post offset\n",
    "        elif spi_x_avg >= 0 and spi_y_avg >= 0 and post_x >= 0 and post_y >= 0 \\\n",
    "            and spi_norm > post_norm:\n",
    "            case = 1\n",
    "        # case 3: SPI offset is (-, +), Post offset is (-,+), SPI offset <= Post offset\n",
    "        elif spi_x_avg <= 0 and spi_y_avg >= 0 and post_x <= 0 and post_y >= 0 \\\n",
    "            and spi_norm <= post_norm:\n",
    "            case = 2\n",
    "        # case 4: SPI offset is (-, +), Post offset is (-,+), SPI offset  > Post offset\n",
    "        elif spi_x_avg <= 0 and spi_y_avg >= 0 and post_x <= 0 and post_y >= 0 \\\n",
    "            and spi_norm > post_norm:\n",
    "            case = 3\n",
    "        # case 5: SPI offset is (-, -), Post offset is (-, -), SPI offset <= Post offset\n",
    "        elif spi_x_avg <= 0 and spi_y_avg <= 0 and post_x <= 0 and post_y <= 0 \\\n",
    "            and spi_norm <= post_norm:\n",
    "            case = 4\n",
    "        # case 6: SPI offset is (-, -), Post offset is (-, -), SPI offset > Post offset\n",
    "        elif spi_x_avg <= 0 and spi_y_avg <= 0 and post_x <= 0 and post_y <= 0 \\\n",
    "            and spi_norm > post_norm:\n",
    "            case = 5\n",
    "        # case 7: SPI offset is (+, -), Post offset is (+,-), SPI offset <= Post offset\n",
    "        elif spi_x_avg >= 0 and spi_y_avg <= 0 and post_x >= 0 and post_y <= 0 \\\n",
    "            and spi_norm <= post_norm:\n",
    "            case = 6\n",
    "        # case 8: SPI offset is (+, -), Post offset is (+,-), SPI offset > Post offset\n",
    "        elif spi_x_avg >= 0 and spi_y_avg <= 0 and post_x >= 0 and post_y <= 0 \\\n",
    "            and spi_norm > post_norm:\n",
    "            case = 7\n",
    "        df_chips_cond_quad[f'{chiptype}'][case].loc[len(df_chips_cond_quad[f'{chiptype}'][case]),:] = \\\n",
    "            values_to_add\n",
    "        \n",
    "        ''' append distance and angle by alignment direction for SPI and Post (Chip) '''\n",
    "        # df_chips_condition2\n",
    "        # case 1: SPI offset is (+, +), Post offset is (+,+), SPI offset <= Post offset\n",
    "        if spi_x_avg >= 0 and spi_y_avg > 0 and post_x >= 0 and post_y >= 0 \\\n",
    "            and spi_norm <= post_norm:\n",
    "            case = 0\n",
    "        # case 2a: SPI offset is (-, -), Post offset is (-, -), SPI offset <= Post offset\n",
    "        elif spi_x_avg <= 0 and spi_y_avg <= 0 and post_x <= 0 and post_y <= 0 \\\n",
    "            and spi_norm <= post_norm:\n",
    "            case = 1\n",
    "        # case 2b: SPI offset is (-, -), Post offset is (-, -), SPI offset > Post offset\n",
    "        elif spi_x_avg <= 0 and spi_y_avg <= 0 and post_x <= 0 and post_y <= 0 \\\n",
    "            and spi_norm > post_norm:\n",
    "            case = 2  \n",
    "        # case 3: SPI offset is (-, +), Post offset is (-,+), SPI offset <= Post offset      \n",
    "        elif spi_x_avg <= 0 and spi_y_avg >= 0 and post_x <= 0 and post_y >= 0 \\\n",
    "            and spi_norm <= post_norm:\n",
    "            case = 3\n",
    "        # case 4a: SPI offset is (+, -), Post offset is (+,-), SPI offset <= Post offset\n",
    "        elif spi_x_avg >= 0 and spi_y_avg <= 0 and post_x >= 0 and post_y <= 0 \\\n",
    "            and spi_norm <= post_norm:\n",
    "            case = 4\n",
    "        # case 4b: SPI offset is (+, -), Post offset is (+,-), SPI offset > Post offset\n",
    "        elif spi_x_avg >= 0 and spi_y_avg <= 0 and post_x >= 0 and post_y <= 0 \\\n",
    "            and spi_norm > post_norm:\n",
    "            case = 5\n",
    "        df_chips_condition2[f'{chiptype}'][case].loc[len(df_chips_condition2[f'{chiptype}'][case]),:] = \\\n",
    "            values_to_add\n",
    "            \n",
    "        # if idx > 1000: #STOP_AFTER:\n",
    "        #     break\n",
    "    \n",
    "    # sort by distance\n",
    "    tmp = df_chips[f'{chiptype}'].to_numpy()\n",
    "    df_chips[f'{chiptype}'] = tmp[tmp[:,0].argsort()]    \n",
    "    \n",
    "    tcondition = trange(2)\n",
    "    for condition in tcondition:\n",
    "        tcondition.set_description('sorting condition dataframes by distance SPI:')\n",
    "        tmp = df_chips_condition[f'{chiptype}'][condition].to_numpy()\n",
    "        df_chips_condition[f'{chiptype}'][condition] = tmp[tmp[:,0].argsort()]    \n",
    "        \n",
    "    tcondition = trange(6)\n",
    "    for condition in tcondition:\n",
    "        tcondition.set_description('sorting condition 2 dataframes by distance SPI:')\n",
    "        tmp = df_chips_condition2[f'{chiptype}'][condition].to_numpy()\n",
    "        df_chips_condition2[f'{chiptype}'][condition] = tmp[tmp[:,0].argsort()]    \n",
    "    \n",
    "    tcase = trange(8)\n",
    "    for case in tcase:\n",
    "        tcase.set_description('sorting case dataframes by distance SPI:')\n",
    "        tmp = df_chips_cond_quad[f'{chiptype}'][case].to_numpy()\n",
    "        df_chips_cond_quad[f'{chiptype}'][case] = tmp[tmp[:,0].argsort()]    \n",
    "    \n",
    "print(f'It took {time.time() - start} seconds')"
   ]
  },
  {
   "cell_type": "code",
   "execution_count": 32,
   "metadata": {},
   "outputs": [
    {
     "data": {
      "text/plain": "count    751.000000\nmean      13.955640\nstd        6.060263\nmin        0.537711\n25%        9.984524\n50%       13.588446\n75%       18.701015\nmax       32.198364\nName: 0, dtype: float64"
     },
     "execution_count": 32,
     "metadata": {},
     "output_type": "execute_result"
    }
   ],
   "source": [
    "pd.DataFrame(df_chips['R0402'],dtype=float).iloc[:,0].describe()"
   ]
  },
  {
   "cell_type": "code",
   "execution_count": 34,
   "metadata": {},
   "outputs": [],
   "source": [
    "# save files as pickle formats\n",
    "try:\n",
    "    import pickle5 as pickle\n",
    "except ImportError:  # Python 3.x\n",
    "    import pickle\n",
    "with open('pickle/df_chips.p', 'wb') as fp:\n",
    "    pickle.dump(df_chips, fp, protocol=pickle.HIGHEST_PROTOCOL)\n",
    "with open('pickle/df_chips_condition.p', 'wb') as fp:\n",
    "    pickle.dump(df_chips_condition, fp, protocol=pickle.HIGHEST_PROTOCOL)\n",
    "with open('pickle/df_chips_condition2.p', 'wb') as fp:\n",
    "    pickle.dump(df_chips_condition2, fp, protocol=pickle.HIGHEST_PROTOCOL)\n",
    "with open('pickle/df_chips_cond_quad.p', 'wb') as fp:\n",
    "    pickle.dump(df_chips_cond_quad, fp, protocol=pickle.HIGHEST_PROTOCOL)\n",
    "\n",
    "# JSON\n",
    "# import json\n",
    "# with open('data.json', 'w') as fp:\n",
    "#     json.dump(data, fp)\n",
    "# with open('data.json', 'r') as fp:\n",
    "#     data = json.load(fp)"
   ]
  },
  {
   "cell_type": "code",
   "execution_count": 7,
   "metadata": {},
   "outputs": [
    {
     "data": {
      "text/plain": "0    0.085336\n1    0.095069\n2    0.131807\n3    0.132821\n4    0.134384\nName: dist_SPI, dtype: float64"
     },
     "execution_count": 7,
     "metadata": {},
     "output_type": "execute_result"
    }
   ],
   "source": [
    "# load pickle\n",
    "import pickle5 as pickle\n",
    "with open('pickle/df_chips.p', 'rb') as fp:\n",
    "    df_chips = pickle.load(fp)\n",
    "with open('pickle/df_chips_condition.p', 'rb') as fp:\n",
    "    df_chips_condition = pickle.load(fp)\n",
    "with open('pickle/df_chips_condition2.p', 'rb') as fp:\n",
    "    df_chips_condition2 = pickle.load(fp)\n",
    "with open('pickle/df_chips_cond_quad.p', 'rb') as fp:\n",
    "    df_chips_cond_quad = pickle.load(fp)\n",
    "\n",
    "chips = ['R0402','R0603','R1005']\n",
    "for chip in chips:\n",
    "    df_chips[chip] = pd.DataFrame(df_chips[chip],dtype=float,columns=['dist_SPI',f'{PRE_OR_POST_ANGLE}_angle','dist_pre','dist_post'])\n",
    "    for condition1 in range(2):\n",
    "        df_chips_condition[chip][condition1] = pd.DataFrame(df_chips_condition[chip][condition1], dtype=float, columns=['dist_SPI',f'{PRE_OR_POST_ANGLE}_angle','dist_pre','dist_post'])\n",
    "    for condition2 in range(6):\n",
    "        df_chips_condition2[chip][condition2] = pd.DataFrame(df_chips_condition2[chip][condition2], dtype=float, columns=['dist_SPI',f'{PRE_OR_POST_ANGLE}_angle','dist_pre','dist_post'])\n",
    "    for case in range(8):\n",
    "        df_chips_cond_quad[chip][case] = pd.DataFrame(df_chips_cond_quad[chip][case], dtype=float, columns=['dist_SPI',f'{PRE_OR_POST_ANGLE}_angle','dist_pre','dist_post'])\n",
    "df_chips['R0402']['dist_SPI'].head()\n"
   ]
  },
  {
   "cell_type": "code",
   "execution_count": 12,
   "metadata": {},
   "outputs": [
    {
     "name": "stdout",
     "output_type": "stream",
     "text": [
      "R0402\n",
      "case 0: 1398\n",
      "0.002099755468961616 400.0\n",
      "0.000524938867240404\n",
      "case 1: 7286\n",
      "0.0034324340005440533 400.0\n",
      "0.0008581085001360133\n",
      "case 2: 398\n",
      "0.001485450111647962 400.0\n",
      "0.0003713625279119905\n",
      "case 3: 5317\n",
      "0.005672145137932784 400.0\n",
      "0.001418036284483196\n",
      "case 4: 545\n",
      "0.001333382311890967 400.0\n",
      "0.00033334557797274174\n",
      "case 5: 3057\n",
      "0.0020594908987697615 400.0\n",
      "0.0005148727246924404\n",
      "case 6: 1581\n",
      "0.0033135205998169716 400.0\n",
      "0.0008283801499542429\n",
      "case 7: 41168\n",
      "0.0031820015552955746 400.0\n",
      "0.0007955003888238936\n",
      "\n",
      "condition 0: 14793\n",
      "condition 1: 45957\n",
      "\n",
      "condition2 0: 1398\n",
      "condition2 1: 7831\n",
      "condition2 2: 3057\n",
      "condition2 3: 5715\n",
      "condition2 4: 1581\n",
      "condition2 5: 41168\n",
      "\n",
      "Total: 60750\n",
      "===================================================================\n",
      "R0603\n",
      "case 0: 853\n",
      "0.0012182099207186659 600.0\n",
      "0.0002030349867864443\n",
      "case 1: 4177\n",
      "0.0009437636894532869 600.0\n",
      "0.00015729394824221449\n",
      "case 2: 553\n",
      "0.0010734131027412901 600.0\n",
      "0.00017890218379021502\n",
      "case 3: 5576\n",
      "1.3291854079432161e-05 600.0\n",
      "2.2153090132386932e-06\n",
      "case 4: 1015\n",
      "0.0005498864871293413 600.0\n",
      "9.164774785489021e-05\n",
      "case 5: 4021\n",
      "0.0009386475903583735 600.0\n",
      "0.00015644126505972891\n",
      "case 6: 1445\n",
      "0.0016205419367022094 600.0\n",
      "0.0002700903227837016\n",
      "case 7: 43110\n",
      "0.00037584675245579314 600.0\n",
      "6.264112540929886e-05\n",
      "\n",
      "condition 0: 15469\n",
      "condition 1: 45281\n",
      "\n",
      "condition2 0: 853\n",
      "condition2 1: 5192\n",
      "condition2 2: 4021\n",
      "condition2 3: 6129\n",
      "condition2 4: 1445\n",
      "condition2 5: 43110\n",
      "\n",
      "Total: 60750\n",
      "===================================================================\n",
      "R1005\n",
      "case 0: 952\n",
      "0.00020779966361370752 1000.0\n",
      "2.0779966361370752e-05\n",
      "case 1: 6603\n",
      "0.0003467886756237867 1000.0\n",
      "3.467886756237867e-05\n",
      "case 2: 803\n",
      "0.00033805569842039343 1000.0\n",
      "3.3805569842039345e-05\n",
      "case 3: 7031\n",
      "8.8675754411282e-05 1000.0\n",
      "8.867575441128199e-06\n",
      "case 4: 1037\n",
      "0.00016486451554685743 1000.0\n",
      "1.648645155468574e-05\n",
      "case 5: 4205\n",
      "0.0005021708914257772 1000.0\n",
      "5.021708914257772e-05\n",
      "case 6: 886\n",
      "0.0006038453039285631 1000.0\n",
      "6.038453039285631e-05\n",
      "case 7: 39233\n",
      "0.0003815743181909651 1000.0\n",
      "3.815743181909651e-05\n",
      "\n",
      "condition 0: 13948\n",
      "condition 1: 46802\n",
      "\n",
      "condition2 0: 952\n",
      "condition2 1: 7640\n",
      "condition2 2: 4205\n",
      "condition2 3: 7834\n",
      "condition2 4: 886\n",
      "condition2 5: 39233\n",
      "\n",
      "Total: 60750\n",
      "===================================================================\n"
     ]
    }
   ],
   "source": [
    "# visualize\n",
    "chiplengths = edict()\n",
    "for _, (chiptype, group) in enumerate(dfgroups):\n",
    "    chiplengths[chiptype] = group['Chip_L'].values[0]\n",
    "\n",
    "chips = ['R0402', 'R0603', 'R1005']\n",
    "for chip in chips:\n",
    "    print(chip)\n",
    "    for case in range(8):\n",
    "        print(f\"case {case}: {len(df_chips_cond_quad[chip][case])}\")\n",
    "        df_chips_cond_quad[chip][case] = pd.DataFrame(df_chips_cond_quad[chip][case], \n",
    "                                                      columns=['dist_SPI',f'{PRE_OR_POST_ANGLE}_angle','dist_pre','dist_post'])\n",
    "    print()   \n",
    "    for condition in range(2):\n",
    "        print(f\"condition {condition}: {len(df_chips_condition[chip][condition])}\")\n",
    "        df_chips_condition[chip][condition] = pd.DataFrame(df_chips_condition[chip][condition], \n",
    "                                                           columns=['dist_SPI',f'{PRE_OR_POST_ANGLE}_angle','dist_pre','dist_post'])\n",
    "    print()   \n",
    "    for condition in range(6):\n",
    "        print(f\"condition2 {condition}: {len(df_chips_condition2[chip][condition])}\")\n",
    "        df_chips_condition2[chip][condition] = pd.DataFrame(df_chips_condition2[chip][condition], \n",
    "                                                           columns=['dist_SPI',f'{PRE_OR_POST_ANGLE}_angle','dist_pre','dist_post'])\n",
    "    print()\n",
    "    print(f\"Total: {len(df_chips[chip])}\")\n",
    "    df_chips[chip] = pd.DataFrame(df_chips[chip], columns=['dist_SPI',f'{PRE_OR_POST_ANGLE}_angle','dist_pre','dist_post'])\n",
    "    if BY_CHIP_PERCENTAGE == True:\n",
    "        df_chips[chip]['dist_SPI'] /= chiplengths[chip]\n",
    "        df_chips[chip]['dist_SPI'] *= 100\n",
    "    print('='*67)"
   ]
  },
  {
   "cell_type": "code",
   "execution_count": 10,
   "metadata": {},
   "outputs": [
    {
     "data": {
      "text/html": "<div>\n<style scoped>\n    .dataframe tbody tr th:only-of-type {\n        vertical-align: middle;\n    }\n\n    .dataframe tbody tr th {\n        vertical-align: top;\n    }\n\n    .dataframe thead th {\n        text-align: right;\n    }\n</style>\n<table border=\"1\" class=\"dataframe\">\n  <thead>\n    <tr style=\"text-align: right;\">\n      <th></th>\n      <th>dist_SPI</th>\n      <th>pre_angle</th>\n      <th>dist_pre</th>\n      <th>dist_post</th>\n    </tr>\n  </thead>\n  <tbody>\n    <tr>\n      <th>count</th>\n      <td>1398.000000</td>\n      <td>1398.000000</td>\n      <td>1398.000000</td>\n      <td>1398.000000</td>\n    </tr>\n    <tr>\n      <th>mean</th>\n      <td>0.495333</td>\n      <td>1.680706</td>\n      <td>56.299577</td>\n      <td>52.056255</td>\n    </tr>\n    <tr>\n      <th>std</th>\n      <td>0.329849</td>\n      <td>1.515669</td>\n      <td>19.189428</td>\n      <td>20.601458</td>\n    </tr>\n    <tr>\n      <th>min</th>\n      <td>0.008399</td>\n      <td>0.000000</td>\n      <td>10.423906</td>\n      <td>4.637021</td>\n    </tr>\n    <tr>\n      <th>25%</th>\n      <td>0.236921</td>\n      <td>0.000000</td>\n      <td>42.620293</td>\n      <td>37.166021</td>\n    </tr>\n    <tr>\n      <th>50%</th>\n      <td>0.420955</td>\n      <td>1.539500</td>\n      <td>54.933813</td>\n      <td>50.722919</td>\n    </tr>\n    <tr>\n      <th>75%</th>\n      <td>0.706670</td>\n      <td>3.278000</td>\n      <td>69.211330</td>\n      <td>66.654800</td>\n    </tr>\n    <tr>\n      <th>max</th>\n      <td>1.912190</td>\n      <td>22.381001</td>\n      <td>136.464221</td>\n      <td>136.464221</td>\n    </tr>\n  </tbody>\n</table>\n</div>",
      "text/plain": "          dist_SPI    pre_angle     dist_pre    dist_post\ncount  1398.000000  1398.000000  1398.000000  1398.000000\nmean      0.495333     1.680706    56.299577    52.056255\nstd       0.329849     1.515669    19.189428    20.601458\nmin       0.008399     0.000000    10.423906     4.637021\n25%       0.236921     0.000000    42.620293    37.166021\n50%       0.420955     1.539500    54.933813    50.722919\n75%       0.706670     3.278000    69.211330    66.654800\nmax       1.912190    22.381001   136.464221   136.464221"
     },
     "execution_count": 10,
     "metadata": {},
     "output_type": "execute_result"
    }
   ],
   "source": [
    "chip = 'R0402'\n",
    "condition = 0\n",
    "case = 0\n",
    "df_chips_cond_quad[chip][case].astype(float).describe()"
   ]
  },
  {
   "cell_type": "code",
   "execution_count": 13,
   "metadata": {},
   "outputs": [],
   "source": [
    "img_path = './img'\n",
    "if not os.path.exists(img_path):\n",
    "    os.makedirs(img_path)\n",
    "os.chdir(img_path)"
   ]
  },
  {
   "cell_type": "code",
   "execution_count": 60,
   "metadata": {},
   "outputs": [
    {
     "name": "stdout",
     "output_type": "stream",
     "text": [
      "[INFO] at i: 11 \t ( 0.4758198786223906 : 0.5234018664846297 ): None\n",
      "[INFO] at i: 13 \t ( 0.5709838543468687 : 0.6185658422091078 ): None\n",
      "[INFO] at i: 14 \t ( 0.6185658422091078 : 0.6661478300713469 ): None\n",
      "[INFO] at i: 14 \t ( 0.2014246506513799 : 0.21691885454763993 ): None\n"
     ]
    }
   ],
   "source": [
    "''' quadrant '''\n",
    "# split into distance groups (15) and compute mean and variance\n",
    "chips = ['R0402', 'R0603', 'R1005']\n",
    "cases = range(8)\n",
    "conditions = range(2)\n",
    "conditions2 = range(6)\n",
    "\n",
    "stat_data = edict()\n",
    "post_pre = edict()\n",
    "for chip in chips:\n",
    "    stat_data[chip] = edict()\n",
    "    post_pre[chip] = edict()\n",
    "    for case in cases:\n",
    "        \n",
    "        data = df_chips_cond_quad[chip][case].astype(float).copy()\n",
    "        post_pre[chip][str(case)] = pd.DataFrame(data.iloc[:, 2:4], columns=['dist_pre','dist_post'])\n",
    "        \n",
    "        num_groups = 15\n",
    "        data_range = data.iloc[:,0].max() - data.iloc[:,0].min()\n",
    "        data_max_dists = [i * data_range / num_groups for i in np.arange(num_groups)]\n",
    "        stat_data[chip][str(case)] = pd.DataFrame(columns=['dist_mean', 'angle_mean', 'angle_stddev'])\n",
    "        for i, (data_max) in enumerate(data_max_dists[1:]):\n",
    "            curr_i, next_i = i, i+1\n",
    "            if next_i == num_groups:\n",
    "                next_i = num_groups-1\n",
    "            current_distances = data.iloc[:,0]\n",
    "            data_valid_df = current_distances[(current_distances < data_max_dists[next_i]) & (current_distances > data_max_dists[curr_i])]\n",
    "            data_valid_idx = data_valid_df.index\n",
    "            data_group_df = data.iloc[data_valid_idx, :]\n",
    "\n",
    "            if len(data_valid_idx) == 0 and curr_i != next_i:\n",
    "                print('[INFO] at i:',i+1, '\\t (',data_max_dists[curr_i],':',data_max_dists[next_i],'):', 'None')\n",
    "                continue\n",
    "            else:\n",
    "                angle_mean = np.mean(data_group_df.iloc[:, 1])\n",
    "                angle_stddev = np.std(data_group_df.iloc[:, 1])\n",
    "                dist_median = np.mean([data_group_df.iloc[:,0].max(), data_group_df.iloc[:,0].min()])        \n",
    "                if np.isnan(angle_mean) or np.isnan(angle_stddev) or np.isnan(dist_median):\n",
    "                    angle_mean, angle_stddev, dist_median = 0, 0, 0\n",
    "#                     print(f'>> at offset distance difference {data_max}: empty (no sample)')\n",
    "            stat_data[chip][str(case)].loc[len(stat_data[chip][str(case)]),:] = [dist_median, angle_mean, angle_stddev]\n",
    "# print(chip, case, '\\n', stat_data, end='\\n\\n')"
   ]
  },
  {
   "cell_type": "code",
   "execution_count": 61,
   "metadata": {},
   "outputs": [
    {
     "data": {
      "text/plain": "<Figure size 1080x1440 with 0 Axes>"
     },
     "metadata": {
      "transient": {}
     },
     "output_type": "display_data"
    },
    {
     "data": {
      "text/plain": "<Figure size 432x432 with 0 Axes>"
     },
     "metadata": {
      "transient": {}
     },
     "output_type": "display_data"
    },
    {
     "data": {
      "text/plain": "<Figure size 1080x1440 with 0 Axes>"
     },
     "metadata": {
      "transient": {}
     },
     "output_type": "display_data"
    },
    {
     "data": {
      "text/plain": "<Figure size 432x432 with 0 Axes>"
     },
     "metadata": {
      "transient": {}
     },
     "output_type": "display_data"
    },
    {
     "data": {
      "text/plain": "<Figure size 1080x1440 with 0 Axes>"
     },
     "metadata": {
      "transient": {}
     },
     "output_type": "display_data"
    },
    {
     "data": {
      "text/plain": "<Figure size 432x432 with 0 Axes>"
     },
     "metadata": {
      "transient": {}
     },
     "output_type": "display_data"
    }
   ],
   "source": [
    "# visualize angle vs dist\n",
    "colordict = ['r','b']\n",
    "\n",
    "for j, chip in enumerate(chips):\n",
    "    fig = plt.figure(figsize=(15,20))\n",
    "    fig_pre_post = plt.figure(figsize=(6, 6))\n",
    "    for i, case in enumerate(cases):\n",
    "        ax = fig.add_subplot(len(cases)/2, 2, i+1)\n",
    "        stat_data[chip][str(case)].plot(ax=ax, kind='scatter',x='dist_mean', y='angle_mean', color=colordict[0], label=f'{chip}_mean')\n",
    "        stat_data[chip][str(case)].plot(ax=ax, kind='scatter',x='dist_mean', y='angle_stddev', color=colordict[1], label=f'{chip}_stddev')\n",
    "#         print(stat_data[chip][str(case)])\n",
    "        lower = [(m-s) for m,s in zip(stat_data[chip][str(case)].iloc[:,1], stat_data[chip][str(case)].iloc[:,2])]\n",
    "        upper = [(m+s) for m,s in zip(stat_data[chip][str(case)].iloc[:,1], stat_data[chip][str(case)].iloc[:,2])]\n",
    "        ax.fill_between(stat_data[chip][str(case)].iloc[:,0].astype(float), lower, upper, facecolor='green', alpha=0.2)\n",
    "        \n",
    "        ax.set_title(f'{chip}: {PRE_OR_POST_ANGLE} Angle vs. SPI-Post-AOI offset distance (case:{case+1})')\n",
    "        if ABSOLUTE_ANGLE == True:\n",
    "            ax.set_xlabel('SPI-Post-AOI offset distance in percentage of chip length (%)')\n",
    "        else:\n",
    "            ax.set_xlabel('SPI-Post-AOI offset distance (\\u03BCm)')\n",
    "        ax.set_ylabel(f'{PRE_OR_POST_ANGLE} angle (degree)')\n",
    "    #     ax.set_xlim([np.min(pad_plot_data.iloc[:,0]), np.max(pad_plot_data.iloc[:,0])])\n",
    "        # ax.set_ylim([0, 3.5])\n",
    "        ax.legend()\n",
    "        ax.grid()\n",
    "        \n",
    "        ax_pre_post = fig_pre_post.add_subplot(len(cases)/2, 2, i+1)    \n",
    "        dist_pre = post_pre[chip][str(case)]['dist_pre']\n",
    "        dist_post = post_pre[chip][str(case)]['dist_post']\n",
    "        ax_pre_post.scatter(dist_pre, dist_post, alpha=0.3, label=f'{case+1}')\n",
    "        ax_pre_post.set_xlabel('Pre-AOI offset')\n",
    "        ax_pre_post.set_ylabel('Post-AOI offset')\n",
    "        ax_pre_post.set_title(f'{chip}_{case+1}_pre_post')\n",
    "        ax_pre_post.legend()\n",
    "        ax_pre_post.grid()\n",
    "    \n",
    "    fig_pre_post.tight_layout()\n",
    "    fig_pre_post.savefig(f'{chip}_pre_post_cases.png')\n",
    "    fig_pre_post.clf()\n",
    "        \n",
    "    fig.tight_layout()\n",
    "    fig.savefig(f'{chip}_cases.png')\n",
    "    fig.clf()\n",
    "\n"
   ]
  },
  {
   "cell_type": "code",
   "execution_count": 62,
   "metadata": {},
   "outputs": [],
   "source": [
    "# split into distance groups (15) and compute mean and variance\n",
    "chips = ['R0402', 'R0603', 'R1005']\n",
    "cases = range(8)\n",
    "conditions = range(2)\n",
    "conditions2 = range(6)\n",
    "\n",
    "stat_data = edict()\n",
    "post_pre = edict()\n",
    "for chip in chips:\n",
    "    stat_data[chip] = edict()\n",
    "    post_pre[chip] = edict()\n",
    "    for condition in conditions:        \n",
    "        data = df_chips_condition[chip][condition].astype(float).copy()\n",
    "        post_pre[chip][str(case)] = pd.DataFrame(data.iloc[:, 2:4], columns=['dist_pre','dist_post'])\n",
    "        \n",
    "        num_groups = 15\n",
    "        data_range = data.iloc[:,0].max() - data.iloc[:,0].min()\n",
    "        data_max_dists = [i * data_range / num_groups for i in np.arange(num_groups)]\n",
    "        stat_data[chip][str(condition)] = pd.DataFrame(columns=['dist_mean', 'angle_mean', 'angle_stddev'])\n",
    "        for i, (data_max) in enumerate(data_max_dists[1:]):\n",
    "            curr_i, next_i = i, i+1\n",
    "            if next_i == num_groups:\n",
    "                next_i = num_groups-1\n",
    "            current_distances = data.iloc[:,0]\n",
    "            data_valid_df = current_distances[(current_distances < data_max_dists[next_i]) & (current_distances > data_max_dists[curr_i])]\n",
    "            data_valid_idx = data_valid_df.index\n",
    "            data_group_df = data.iloc[data_valid_idx, :]\n",
    "\n",
    "            if len(data_valid_idx) == 0 and curr_i != next_i:\n",
    "                print('[INFO] at i:',i+1, '\\t (',data_max_dists[curr_i],':',data_max_dists[next_i],'):', 'None')\n",
    "                continue\n",
    "            else:\n",
    "                angle_mean = np.mean(data_group_df.iloc[:, 1])\n",
    "                angle_stddev = np.std(data_group_df.iloc[:, 1])\n",
    "                dist_median = np.mean([data_group_df.iloc[:,0].max(), data_group_df.iloc[:,0].min()])        \n",
    "                if np.isnan(angle_mean) or np.isnan(angle_stddev) or np.isnan(dist_median):\n",
    "                    angle_mean, angle_stddev, dist_median = 0, 0, 0\n",
    "            stat_data[chip][str(condition)].loc[len(stat_data[chip][str(condition)]),:] = [dist_median, angle_mean, angle_stddev]\n",
    "# print(chip, case, '\\n', stat_data, end='\\n\\n')"
   ]
  },
  {
   "cell_type": "code",
   "execution_count": 63,
   "metadata": {},
   "outputs": [
    {
     "data": {
      "text/plain": "<Figure size 1080x360 with 0 Axes>"
     },
     "metadata": {
      "transient": {}
     },
     "output_type": "display_data"
    },
    {
     "data": {
      "text/plain": "<Figure size 432x432 with 0 Axes>"
     },
     "metadata": {
      "transient": {}
     },
     "output_type": "display_data"
    },
    {
     "data": {
      "text/plain": "<Figure size 1080x360 with 0 Axes>"
     },
     "metadata": {
      "transient": {}
     },
     "output_type": "display_data"
    },
    {
     "data": {
      "text/plain": "<Figure size 432x432 with 0 Axes>"
     },
     "metadata": {
      "transient": {}
     },
     "output_type": "display_data"
    },
    {
     "data": {
      "text/plain": "<Figure size 1080x360 with 0 Axes>"
     },
     "metadata": {
      "transient": {}
     },
     "output_type": "display_data"
    },
    {
     "data": {
      "text/plain": "<Figure size 432x432 with 0 Axes>"
     },
     "metadata": {
      "transient": {}
     },
     "output_type": "display_data"
    }
   ],
   "source": [
    "# visualize angle vs dist\n",
    "colordict = ['r','b']\n",
    "for j, chip in enumerate(chips):\n",
    "    fig = plt.figure(figsize=(15,5))  \n",
    "    fig_pre_post = plt.figure(figsize=(6, 6))\n",
    "    for i, condition in enumerate(conditions):\n",
    "        ax = fig.add_subplot(1,len(conditions),i+1)\n",
    "        stat_data[chip][str(condition)].plot(ax=ax, kind='scatter',x='dist_mean', y='angle_mean', color=colordict[0], label=f'{chip}_mean')\n",
    "        stat_data[chip][str(condition)].plot(ax=ax, kind='scatter',x='dist_mean', y='angle_stddev', color=colordict[1], label=f'{chip}_stddev')\n",
    "\n",
    "        lower = [(m-s) for m,s in zip(stat_data[chip][str(condition)].iloc[:,1], stat_data[chip][str(condition)].iloc[:,2])]\n",
    "        upper = [(m+s) for m,s in zip(stat_data[chip][str(condition)].iloc[:,1], stat_data[chip][str(condition)].iloc[:,2])]\n",
    "        ax.fill_between(stat_data[chip][str(condition)].iloc[:,0].astype(float), lower, upper, facecolor='green', alpha=0.2)\n",
    "        \n",
    "        ax.set_title(f'{chip}: {PRE_OR_POST_ANGLE} Angle vs. SPI-Post-AOI offset distance (condition:{condition+1})')\n",
    "        if ABSOLUTE_ANGLE == True:\n",
    "            ax.set_xlabel('SPI-Post-AOI offset distance in percentage of chip length (%)')\n",
    "        else:\n",
    "            ax.set_xlabel('SPI-Post-AOI offset distance (\\u03BCm)')\n",
    "        ax.set_ylabel(f'{PRE_OR_POST_ANGLE} angle (degree)')\n",
    "        # ax.set_ylim([0, 3.5])\n",
    "        ax.legend()\n",
    "        ax.grid()\n",
    "        \n",
    "                \n",
    "        ax_pre_post = fig_pre_post.add_subplot(1, len(conditions), i+1)    \n",
    "        dist_pre = post_pre[chip][str(case)]['dist_pre']\n",
    "        dist_post = post_pre[chip][str(case)]['dist_post']\n",
    "        ax_pre_post.scatter(dist_pre, dist_post, alpha=0.3, label=f'{condition+1}')\n",
    "        ax_pre_post.set_xlabel('Pre-AOI offset')\n",
    "        ax_pre_post.set_ylabel('Post-AOI offset')\n",
    "        ax_pre_post.set_title(f'{chip}_{condition+1}_pre_post')\n",
    "        ax_pre_post.legend()\n",
    "        ax_pre_post.grid()\n",
    "    \n",
    "    fig_pre_post.tight_layout()\n",
    "    fig_pre_post.savefig(f'{chip}_pre_post_condition.png')\n",
    "    fig_pre_post.clf()\n",
    "\n",
    "    fig.tight_layout()\n",
    "    fig.savefig(f'{chip}_conditions.png')\n",
    "    fig.clf()\n"
   ]
  },
  {
   "cell_type": "code",
   "execution_count": 64,
   "metadata": {},
   "outputs": [],
   "source": [
    "# split into distance groups (15) and compute mean and variance\n",
    "chips = ['R0402', 'R0603', 'R1005']\n",
    "cases = range(8)\n",
    "conditions = range(2)\n",
    "conditions2 = range(6)\n",
    "\n",
    "stat_data = edict()\n",
    "post_pre = edict()\n",
    "for chip in chips:\n",
    "    stat_data[chip] = edict()\n",
    "    post_pre[chip] = edict()\n",
    "    for condition in conditions2:        \n",
    "        data = df_chips_condition2[chip][condition].astype(float).copy()\n",
    "        post_pre[chip][str(case)] = pd.DataFrame(data.iloc[:, 2:4], columns=['dist_pre','dist_post'])\n",
    "        \n",
    "        num_groups = 15\n",
    "        data_range = data.iloc[:,0].max() - data.iloc[:,0].min()\n",
    "        data_max_dists = [i * data_range / num_groups for i in np.arange(num_groups)]\n",
    "        stat_data[chip][str(condition)] = pd.DataFrame(columns=['dist_mean', 'angle_mean', 'angle_stddev'])\n",
    "        for i, (data_max) in enumerate(data_max_dists[1:]):\n",
    "            curr_i, next_i = i, i+1\n",
    "            if next_i == num_groups:\n",
    "                next_i = num_groups-1\n",
    "            current_distances = data.iloc[:,0]\n",
    "            data_valid_df = current_distances[(current_distances < data_max_dists[next_i]) & (current_distances > data_max_dists[curr_i])]\n",
    "            data_valid_idx = data_valid_df.index\n",
    "            data_group_df = data.iloc[data_valid_idx, :]\n",
    "            \n",
    "            if len(data_valid_idx) == 0 and curr_i != next_i:\n",
    "                print('[INFO] at i:',i+1, '\\t (',data_max_dists[curr_i],':',data_max_dists[next_i],'):', 'None')\n",
    "                continue\n",
    "            else:\n",
    "                angle_mean = np.mean(data_group_df.iloc[:, 1])\n",
    "                angle_stddev = np.std(data_group_df.iloc[:, 1])\n",
    "                dist_median = np.mean([data_group_df.iloc[:,0].max(), data_group_df.iloc[:,0].min()])        \n",
    "                if np.isnan(angle_mean) or np.isnan(angle_stddev) or np.isnan(dist_median):\n",
    "                    angle_mean, angle_stddev, dist_median = 0, 0, 0\n",
    "            stat_data[chip][str(condition)].loc[len(stat_data[chip][str(condition)]),:] = [dist_median, angle_mean, angle_stddev]\n"
   ]
  },
  {
   "cell_type": "code",
   "execution_count": 65,
   "metadata": {},
   "outputs": [
    {
     "data": {
      "text/plain": "<Figure size 1080x360 with 0 Axes>"
     },
     "metadata": {
      "transient": {}
     },
     "output_type": "display_data"
    },
    {
     "data": {
      "text/plain": "<Figure size 432x432 with 0 Axes>"
     },
     "metadata": {
      "transient": {}
     },
     "output_type": "display_data"
    },
    {
     "data": {
      "text/plain": "<Figure size 1080x360 with 0 Axes>"
     },
     "metadata": {
      "transient": {}
     },
     "output_type": "display_data"
    },
    {
     "data": {
      "text/plain": "<Figure size 432x432 with 0 Axes>"
     },
     "metadata": {
      "transient": {}
     },
     "output_type": "display_data"
    },
    {
     "data": {
      "text/plain": "<Figure size 1080x360 with 0 Axes>"
     },
     "metadata": {
      "transient": {}
     },
     "output_type": "display_data"
    },
    {
     "data": {
      "text/plain": "<Figure size 432x432 with 0 Axes>"
     },
     "metadata": {
      "transient": {}
     },
     "output_type": "display_data"
    }
   ],
   "source": [
    "# visualize angle vs dist\n",
    "colordict = ['r','b']\n",
    "for j, chip in enumerate(chips):\n",
    "    fig = plt.figure(figsize=(15,5))  \n",
    "    fig_pre_post = plt.figure(figsize=(6, 6))\n",
    "    for i, condition in enumerate(conditions2):\n",
    "        ax = fig.add_subplot(len(conditions2)/2, 2,i+1)\n",
    "        stat_data[chip][str(condition)].plot(ax=ax, kind='scatter',x='dist_mean', y='angle_mean', color=colordict[0], label=f'{chip}_mean')\n",
    "        stat_data[chip][str(condition)].plot(ax=ax, kind='scatter',x='dist_mean', y='angle_stddev', color=colordict[1], label=f'{chip}_stddev')\n",
    "\n",
    "        lower = [(m-s) for m,s in zip(stat_data[chip][str(condition)].iloc[:,1], stat_data[chip][str(condition)].iloc[:,2])]\n",
    "        upper = [(m+s) for m,s in zip(stat_data[chip][str(condition)].iloc[:,1], stat_data[chip][str(condition)].iloc[:,2])]\n",
    "        ax.fill_between(stat_data[chip][str(condition)].iloc[:,0].astype(float), lower, upper, facecolor='green', alpha=0.2)\n",
    "        \n",
    "        ax.set_title(f'{chip}: {PRE_OR_POST_ANGLE} angle vs. SPI-Post-AOI offset distance (condition:{condition+1})')\n",
    "        if ABSOLUTE_ANGLE == True:\n",
    "            ax.set_xlabel('SPI-Post-AOI offset distance in percentage of chip length (%)')\n",
    "        else:\n",
    "            ax.set_xlabel('SPI-Post-AOI offset distance (\\u03BCm)')\n",
    "        ax.set_ylabel(f'{PRE_OR_POST_ANGLE} angle (degree)')\n",
    "    #     ax.set_xlim([np.min(pad_plot_data.iloc[:,0]), np.max(pad_plot_data.iloc[:,0])])\n",
    "        # ax.set_ylim([0, 3.5])\n",
    "        ax.legend()\n",
    "        ax.grid()\n",
    "        \n",
    "                \n",
    "        ax_pre_post = fig_pre_post.add_subplot(len(conditions2)/2, 2, i+1)    \n",
    "        dist_pre = post_pre[chip][str(case)]['dist_pre']\n",
    "        dist_post = post_pre[chip][str(case)]['dist_post']\n",
    "        ax_pre_post.scatter(dist_pre, dist_post, alpha=0.3, label=f'{condition+1}')\n",
    "        ax_pre_post.set_xlabel('Pre-AOI offset')\n",
    "        ax_pre_post.set_ylabel('Post-AOI offset')\n",
    "        ax_pre_post.set_title(f'{chip}_{condition+1}_pre_post')\n",
    "        ax_pre_post.legend()\n",
    "        ax_pre_post.grid()\n",
    "    \n",
    "    fig_pre_post.tight_layout()\n",
    "    fig_pre_post.savefig(f'{chip}_pre_post_condition2.png')\n",
    "    fig_pre_post.clf()\n",
    "\n",
    "    fig.tight_layout()\n",
    "    fig.savefig(f'{chip}_conditions2.png')\n",
    "    fig.clf()\n"
   ]
  },
  {
   "cell_type": "code",
   "execution_count": null,
   "metadata": {},
   "outputs": [],
   "source": []
  }
 ],
 "metadata": {
  "kernelspec": {
   "display_name": "Python 3",
   "language": "python",
   "name": "python3"
  },
  "language_info": {
   "codemirror_mode": {
    "name": "ipython",
    "version": 3
   },
   "file_extension": ".py",
   "mimetype": "text/x-python",
   "name": "python",
   "nbconvert_exporter": "python",
   "pygments_lexer": "ipython3",
   "version": "3.7.9"
  }
 },
 "nbformat": 4,
 "nbformat_minor": 4
}