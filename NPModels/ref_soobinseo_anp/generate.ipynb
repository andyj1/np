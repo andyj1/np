{
 "cells": [
  {
   "cell_type": "code",
   "execution_count": 1,
   "metadata": {},
   "outputs": [
    {
     "ename": "ModuleNotFoundError",
     "evalue": "No module named 'torchvision'",
     "output_type": "error",
     "traceback": [
      "\u001b[0;31m---------------------------------------------------------------------------\u001b[0m",
      "\u001b[0;31mModuleNotFoundError\u001b[0m                       Traceback (most recent call last)",
      "\u001b[0;32m<ipython-input-1-6dd351122000>\u001b[0m in \u001b[0;36m<module>\u001b[0;34m\u001b[0m\n\u001b[0;32m----> 1\u001b[0;31m \u001b[0;32mimport\u001b[0m \u001b[0mtorchvision\u001b[0m\u001b[0;34m\u001b[0m\u001b[0;34m\u001b[0m\u001b[0m\n\u001b[0m",
      "\u001b[0;31mModuleNotFoundError\u001b[0m: No module named 'torchvision'"
     ]
    }
   ],
   "source": [
    "import torchvision"
   ]
  },
  {
   "cell_type": "code",
   "execution_count": null,
   "metadata": {},
   "outputs": [],
   "source": [
    "test_dataset = torchvision.datasets.MNIST('./data', train=False, download=True)"
   ]
  },
  {
   "cell_type": "code",
   "execution_count": null,
   "metadata": {},
   "outputs": [],
   "source": [
    "test_dataset"
   ]
  },
  {
   "cell_type": "code",
   "execution_count": null,
   "metadata": {},
   "outputs": [],
   "source": [
    "import numpy as np"
   ]
  },
  {
   "cell_type": "code",
   "execution_count": null,
   "metadata": {},
   "outputs": [],
   "source": [
    "trans = torchvision.transforms.ToTensor"
   ]
  },
  {
   "cell_type": "code",
   "execution_count": null,
   "metadata": {},
   "outputs": [],
   "source": [
    "from matplotlib import pyplot as plt\n",
    "%matplotlib inline"
   ]
  },
  {
   "cell_type": "code",
   "execution_count": null,
   "metadata": {},
   "outputs": [],
   "source": [
    "def collate_fn(batch):\n",
    "\n",
    "    # Puts each data field into a tensor with outer dimension batch size\n",
    "    assert isinstance(batch[0], tuple)\n",
    "    trans = torchvision.transforms.ToTensor()\n",
    "    batch_size = len(batch)\n",
    "    \n",
    "    num_total_points = 784\n",
    "    num_context = 10 # half of total points\n",
    "    \n",
    "    context_x, context_y, target_x, target_y = list(), list(), list(), list()\n",
    "    \n",
    "    for d, _ in batch:\n",
    "        d = trans(d)\n",
    "        total_idx = range(784)\n",
    "        total_idx = list(map(lambda x: (x//28, x%28), total_idx))\n",
    "        c_idx = np.random.choice(range(784), num_total_points, replace=False)\n",
    "        c_idx = list(map(lambda x: (x//28, x%28), c_idx))\n",
    "        c_idx = c_idx[:num_context]\n",
    "        c_x, c_y, total_x, total_y = list(), list(), list(), list()\n",
    "        for idx in c_idx:\n",
    "            c_y.append(d[:, idx[0], idx[1]])\n",
    "            c_x.append((idx[0] / 27., idx[1] / 27.))\n",
    "        for idx in total_idx:\n",
    "            total_y.append(d[:, idx[0], idx[1]])\n",
    "            total_x.append((idx[0] / 27., idx[1] / 27.))\n",
    "        c_x, c_y, total_x, total_y = list(map(lambda x: t.FloatTensor(x), (c_x, c_y, total_x, total_y)))\n",
    "        context_x.append(c_x)\n",
    "        context_y.append(c_y)\n",
    "        target_x.append(total_x)\n",
    "        target_y.append(total_y)\n",
    "        \n",
    "        \n",
    "    context_x = t.stack(context_x, dim=0)\n",
    "    context_y = t.stack(context_y, dim=0).unsqueeze(-1)\n",
    "    target_x = t.stack(target_x, dim=0)\n",
    "    target_y = t.stack(target_y, dim=0).unsqueeze(-1)\n",
    "    \n",
    "    return context_x, context_y, target_x, target_y"
   ]
  },
  {
   "cell_type": "code",
   "execution_count": null,
   "metadata": {},
   "outputs": [],
   "source": [
    "from torch.utils.data import DataLoader\n",
    "import torch as t"
   ]
  },
  {
   "cell_type": "code",
   "execution_count": null,
   "metadata": {},
   "outputs": [],
   "source": [
    "dloader = DataLoader(test_dataset, batch_size=1, collate_fn=collate_fn, shuffle=False)"
   ]
  },
  {
   "cell_type": "code",
   "execution_count": null,
   "metadata": {},
   "outputs": [],
   "source": [
    "from network import LatentModel"
   ]
  },
  {
   "cell_type": "code",
   "execution_count": null,
   "metadata": {},
   "outputs": [],
   "source": [
    "model = LatentModel(128)"
   ]
  },
  {
   "cell_type": "code",
   "execution_count": null,
   "metadata": {},
   "outputs": [],
   "source": [
    "model.train(False)"
   ]
  },
  {
   "cell_type": "code",
   "execution_count": null,
   "metadata": {},
   "outputs": [],
   "source": [
    "state_dict = t.load('./checkpoint/checkpoint_50.pth.tar')"
   ]
  },
  {
   "cell_type": "code",
   "execution_count": null,
   "metadata": {},
   "outputs": [],
   "source": [
    "model.load_state_dict(state_dict=state_dict['model'])"
   ]
  },
  {
   "cell_type": "code",
   "execution_count": null,
   "metadata": {},
   "outputs": [],
   "source": [
    "fig = plt.figure()\n",
    "# fig1 = plt.figure()\n",
    "model.train(False)\n",
    "for i, d in enumerate(dloader):\n",
    "    context_x, context_y, target_x, target_y = d\n",
    "    pred_y, _, _ = model(context_x, context_y, target_x, None) # Test\n",
    "    \n",
    "    fig.add_subplot(1,10,i+1)\n",
    "\n",
    "    plt.axis('off')\n",
    "    plt.imshow(t.sigmoid(target_y).squeeze(0).view(-1,28).detach().numpy())\n",
    "#     plt.imshow(t.sigmoid(target_y).squeeze(0).view(-1,28))\n",
    "#     plt.imshow(pred_y.squeeze(0).view(28,28).detach().numpy())\n",
    "    if i == 9:\n",
    "        \n",
    "        break\n",
    "\n",
    "plt.savefig('./results/original.png', bbox_inches='tight')"
   ]
  },
  {
   "cell_type": "code",
   "execution_count": null,
   "metadata": {},
   "outputs": [],
   "source": []
  }
 ],
 "metadata": {
  "kernelspec": {
   "display_name": "Python 3",
   "language": "python",
   "name": "python3"
  },
  "language_info": {
   "codemirror_mode": {
    "name": "ipython",
    "version": 3
   },
   "file_extension": ".py",
   "mimetype": "text/x-python",
   "name": "python",
   "nbconvert_exporter": "python",
   "pygments_lexer": "ipython3",
   "version": "3.6.6"
  }
 },
 "nbformat": 4,
 "nbformat_minor": 2
}